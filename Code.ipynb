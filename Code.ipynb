{
 "cells": [
  {
   "cell_type": "code",
   "execution_count": null,
   "metadata": {},
   "outputs": [],
   "source": [
    "import pandas as pd\n",
    "import numpy as np\n",
    "import tensorflow as tf\n",
    "from tensorflow.keras.models import Sequential\n",
    "from tensorflow.keras.layers import Dense, Dropout, BatchNormalization, Input\n",
    "from tensorflow.keras.callbacks import EarlyStopping\n",
    "from sklearn.model_selection import train_test_split, KFold\n",
    "from sklearn.preprocessing import RobustScaler\n",
    "from imblearn.over_sampling import SMOTE\n",
    "from sklearn.metrics import f1_score"
   ]
  },
  {
   "cell_type": "code",
   "execution_count": null,
   "metadata": {},
   "outputs": [],
   "source": [
    "import pandas as pd\n",
    "\n",
    "# Cargar el conjunto de datos desde un archivo CSV\n",
    "data_path = r\"C:\\Proyectos programación\\Modelos\\consumo_casa.csv\"\n",
    "data = pd.read_csv(data_path)\n",
    "\n",
    "# Eliminar la primera columna (asumiendo que se llama 'Unnamed: 0')\n",
    "data.drop(columns=['Unnamed: 0'], inplace=True)\n",
    "\n",
    "# Calcular la columna 'otros'\n",
    "data['otros'] = data['Medidor [W]'] - data[['Refrigerator', 'Clothes washer', 'Clothes Iron', 'Computer', 'Oven', 'Play', 'TV', 'Sound system']].sum(axis=1)\n",
    "\n",
    "# Convertir la columna 'Fecha' a tipo datetime si no lo está\n",
    "data['Fecha'] = pd.to_datetime(data['Fecha'])\n",
    "\n",
    "print(data)\n"
   ]
  },
  {
   "cell_type": "code",
   "execution_count": null,
   "metadata": {},
   "outputs": [],
   "source": [
    "# Dividir los datos en características (X) y etiquetas (y)\n",
    "X = data[['Fecha', 'Medidor [W]']]\n",
    "y = data.drop(columns=['Fecha', 'Medidor [W]'])\n",
    "\n",
    "# Dividir los datos en conjunto de entrenamiento y prueba\n",
    "X_train, X_test, y_train, y_test = train_test_split(X, y, test_size=0.2, random_state=42)\n"
   ]
  },
  {
   "cell_type": "code",
   "execution_count": 71,
   "metadata": {},
   "outputs": [
    {
     "name": "stdout",
     "output_type": "stream",
     "text": [
      "R2 score en entrenamiento: 0.13983053749368263\n",
      "R2 score en prueba: 0.13933064768228232\n"
     ]
    }
   ],
   "source": [
    "import numpy as np\n",
    "from sklearn.model_selection import train_test_split\n",
    "from sklearn.linear_model import LinearRegression\n",
    "\n",
    "# Aplicar funciones seno y coseno a las variables de predicción (y)\n",
    "variables_prediccion = ['Refrigerator', 'Clothes washer', 'Clothes Iron', 'Computer', 'Oven', 'Play', 'TV', 'Sound system','Medidor [W]']\n",
    "for variable in variables_prediccion:\n",
    "    data[f'{variable}_seno'] = np.sin(2 * np.pi * data[variable] / 24)\n",
    "    data[f'{variable}_coseno'] = np.cos(2 * np.pi * data[variable] / 24)\n",
    "\n",
    "# Dividir los datos en características (X) y etiquetas (y)\n",
    "X = data[['mes_seno', 'mes_coseno', 'dia_seno', 'dia_coseno', 'hora_seno', 'hora_coseno', 'minuto_seno', 'minuto_coseno', 'Medidor [W]_seno','Medidor [W]_coseno']]\n",
    "y = data[[f'{variable}_seno' for variable in variables_prediccion] + [f'{variable}_coseno' for variable in variables_prediccion]]\n",
    "\n",
    "# Dividir los datos en conjunto de entrenamiento y prueba\n",
    "X_train, X_test, y_train, y_test = train_test_split(X, y, test_size=0.2, random_state=42)\n",
    "\n",
    "# Construir el modelo de regresión lineal\n",
    "model = LinearRegression()\n",
    "model.fit(X_train, y_train)\n",
    "\n",
    "# Evaluar el modelo\n",
    "train_score = model.score(X_train, y_train)\n",
    "test_score = model.score(X_test, y_test)\n",
    "\n",
    "print(\"R2 score en entrenamiento:\", train_score)\n",
    "print(\"R2 score en prueba:\", test_score)\n"
   ]
  },
  {
   "cell_type": "code",
   "execution_count": 72,
   "metadata": {},
   "outputs": [
    {
     "name": "stdout",
     "output_type": "stream",
     "text": [
      "Error cuadrático medio: 0.09793325161737038\n"
     ]
    }
   ],
   "source": [
    "from sklearn.metrics import mean_squared_error\n",
    "\n",
    "# Predecir los valores en el conjunto de prueba\n",
    "y_pred = model.predict(X_test)\n",
    "\n",
    "# Calcular el error cuadrático medio\n",
    "mse = mean_squared_error(y_test, y_pred)\n",
    "\n",
    "print(\"Error cuadrático medio:\", mse)\n"
   ]
  },
  {
   "cell_type": "code",
   "execution_count": 73,
   "metadata": {},
   "outputs": [
    {
     "name": "stdout",
     "output_type": "stream",
     "text": [
      "MSE para Refrigerator_seno: 0.19686138860436575\n",
      "MSE para Clothes washer_seno: 0.03727592423966446\n",
      "MSE para Clothes Iron_seno: 0.014280187090053235\n",
      "MSE para Computer_seno: 0.030201722579856895\n",
      "MSE para Oven_seno: 0.016553057909056493\n",
      "MSE para Play_seno: 0.08538070645744361\n",
      "MSE para TV_seno: 0.12280961974231075\n",
      "MSE para Sound system_seno: 0.1407520559965206\n",
      "MSE para Medidor [W]_seno: 1.5990595699995692e-30\n",
      "MSE para Refrigerator_coseno: 0.6144699484221425\n",
      "MSE para Clothes washer_coseno: 0.07121330715563971\n",
      "MSE para Clothes Iron_coseno: 0.008075897520595685\n",
      "MSE para Computer_coseno: 0.0387663220297995\n",
      "MSE para Oven_coseno: 0.005708769807957872\n",
      "MSE para Play_coseno: 0.03266746266276407\n",
      "MSE para TV_coseno: 0.22825347401870738\n",
      "MSE para Sound system_coseno: 0.11952868487578508\n",
      "MSE para Medidor [W]_coseno: 5.064937891975116e-31\n"
     ]
    }
   ],
   "source": [
    "from sklearn.metrics import mean_squared_error\n",
    "\n",
    "# Predecir los valores en el conjunto de prueba\n",
    "y_pred = model.predict(X_test)\n",
    "\n",
    "# Calcular el error cuadrático medio por cada columna\n",
    "mse_por_columna = {}\n",
    "for i, columna in enumerate(y.columns):\n",
    "    mse_por_columna[columna] = mean_squared_error(y_test.iloc[:, i], y_pred[:, i])\n",
    "\n",
    "# Imprimir el MSE por cada columna\n",
    "for columna, mse_valor in mse_por_columna.items():\n",
    "    print(f\"MSE para {columna}: {mse_valor}\")\n"
   ]
  },
  {
   "cell_type": "code",
   "execution_count": 74,
   "metadata": {},
   "outputs": [
    {
     "name": "stdout",
     "output_type": "stream",
     "text": [
      "Valores reales y predichos para la variable 'Refrigerator' para los primeros 5 datos:\n",
      "   Valor Real  Valor Predicho\n",
      "0    0.544639        0.057759\n",
      "1    0.309017        0.109593\n",
      "2    0.284015        0.149718\n",
      "3    0.000000        0.113913\n",
      "4    0.284015        0.171309\n",
      "5    0.983255        0.216332\n",
      "6    0.078459        0.089559\n",
      "7    0.104528        0.096761\n",
      "8    0.207912        0.149811\n",
      "9    0.000000        0.133240\n"
     ]
    }
   ],
   "source": [
    "# Elegir la variable para la cual mostrar los valores (por ejemplo, 'Refrigerator')\n",
    "variable_elegida = 'Refrigerator'\n",
    "\n",
    "# Obtener los primeros 5 valores reales y predichos para la variable elegida\n",
    "primeros_5_valores = pd.DataFrame({\n",
    "    'Valor Real': y_test[f'{variable_elegida}_seno'].iloc[:10].values,\n",
    "    'Valor Predicho': y_pred[:10, y.columns.get_loc(f'{variable_elegida}_seno')]\n",
    "})\n",
    "\n",
    "# Mostrar los primeros 5 valores reales y predichos\n",
    "print(f\"Valores reales y predichos para la variable '{variable_elegida}' para los primeros 5 datos:\")\n",
    "print(primeros_5_valores)\n"
   ]
  }
 ],
 "metadata": {
  "kernelspec": {
   "display_name": "Python 3",
   "language": "python",
   "name": "python3"
  },
  "language_info": {
   "codemirror_mode": {
    "name": "ipython",
    "version": 3
   },
   "file_extension": ".py",
   "mimetype": "text/x-python",
   "name": "python",
   "nbconvert_exporter": "python",
   "pygments_lexer": "ipython3",
   "version": "3.12.2"
  }
 },
 "nbformat": 4,
 "nbformat_minor": 2
}
