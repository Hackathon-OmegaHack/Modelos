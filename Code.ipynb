{
 "cells": [
  {
   "cell_type": "code",
   "execution_count": 1,
   "metadata": {},
   "outputs": [],
   "source": [
    "import pandas as pd\n",
    "import numpy as np\n",
    "import tensorflow as tf\n",
    "from tensorflow.keras.models import Sequential\n",
    "from tensorflow.keras.layers import Dense, Dropout, BatchNormalization, Input\n",
    "from tensorflow.keras.callbacks import EarlyStopping\n",
    "from sklearn.model_selection import train_test_split, KFold\n",
    "from sklearn.preprocessing import RobustScaler\n",
    "from imblearn.over_sampling import SMOTE\n",
    "from sklearn.metrics import f1_score"
   ]
  },
  {
   "cell_type": "code",
   "execution_count": 2,
   "metadata": {},
   "outputs": [
    {
     "name": "stdout",
     "output_type": "stream",
     "text": [
      "                     Fecha  Medidor [W]  Refrigerator  Clothes washer  \\\n",
      "0      2017-06-07 00:00:00      228.887         134.6             1.0   \n",
      "1      2017-06-07 00:01:00      231.814         134.6             0.2   \n",
      "2      2017-06-07 00:02:00      230.971         131.3             0.3   \n",
      "3      2017-06-07 00:03:00      231.878         131.3             0.0   \n",
      "4      2017-06-07 00:04:00      189.225           0.0             0.1   \n",
      "...                    ...          ...           ...             ...   \n",
      "194118 2017-10-22 23:55:00       88.272           0.1             1.4   \n",
      "194119 2017-10-22 23:56:00       86.386           1.0             1.3   \n",
      "194120 2017-10-22 23:57:00       85.766           0.0             1.8   \n",
      "194121 2017-10-22 23:58:00       87.665           0.4             0.0   \n",
      "194122 2017-10-22 23:59:00       86.988           0.3             0.7   \n",
      "\n",
      "        Clothes Iron  Computer  Oven  Play   TV  Sound system    otros  \n",
      "0                0.0       0.3   0.1   0.0  0.0           0.1   92.787  \n",
      "1                0.0       0.3   0.2   0.0  0.0           0.1   96.414  \n",
      "2                0.0       0.3   0.0   0.0  0.0           1.0   98.071  \n",
      "3                0.5       0.1   0.0   1.1  0.1           1.0   97.778  \n",
      "4                0.0       0.0   0.1   0.0  0.6           0.1  188.325  \n",
      "...              ...       ...   ...   ...  ...           ...      ...  \n",
      "194118           0.0       0.0   0.8   0.4  0.2           0.4   84.972  \n",
      "194119           0.1       0.0   1.0   1.3  1.0           0.6   80.086  \n",
      "194120           0.1       0.0   0.1   0.1  1.0           0.6   82.066  \n",
      "194121           0.1       0.0   0.4   0.1  1.1           1.0   84.565  \n",
      "194122           0.8       0.2   0.4   1.1  1.0           0.2   82.288  \n",
      "\n",
      "[194123 rows x 11 columns]\n"
     ]
    }
   ],
   "source": [
    "import pandas as pd\n",
    "\n",
    "# Cargar el conjunto de datos desde un archivo CSV\n",
    "data_path = r\"C:\\Proyectos programación\\Modelos\\consumo_casa.csv\"\n",
    "data = pd.read_csv(data_path)\n",
    "\n",
    "# Eliminar la primera columna (asumiendo que se llama 'Unnamed: 0')\n",
    "data.drop(columns=['Unnamed: 0'], inplace=True)\n",
    "\n",
    "# Calcular la columna 'otros'\n",
    "data['otros'] = data['Medidor [W]'] - data[['Refrigerator', 'Clothes washer', 'Clothes Iron', 'Computer', 'Oven', 'Play', 'TV', 'Sound system']].sum(axis=1)\n",
    "\n",
    "# Convertir la columna 'Fecha' a tipo datetime si no lo está\n",
    "data['Fecha'] = pd.to_datetime(data['Fecha'])\n",
    "\n",
    "print(data)\n"
   ]
  },
  {
   "cell_type": "code",
   "execution_count": 3,
   "metadata": {},
   "outputs": [],
   "source": [
    "# Dividir los datos en características (X) y etiquetas (y)\n",
    "X = data[['Fecha', 'Medidor [W]']]\n",
    "y = data.drop(columns=['Fecha', 'Medidor [W]'])\n",
    "\n",
    "# Dividir los datos en conjunto de entrenamiento y prueba\n",
    "X_train, X_test, y_train, y_test = train_test_split(X, y, test_size=0.2, random_state=42)\n"
   ]
  },
  {
   "cell_type": "code",
   "execution_count": 4,
   "metadata": {},
   "outputs": [
    {
     "name": "stdout",
     "output_type": "stream",
     "text": [
      "[[[0.02945975]]\n",
      "\n",
      " [[0.01151024]]\n",
      "\n",
      " [[0.60493139]]\n",
      "\n",
      " ...\n",
      "\n",
      " [[0.07507655]]\n",
      "\n",
      " [[0.1166746 ]]\n",
      "\n",
      " [[0.0768797 ]]]\n",
      "Epoch 1/2\n",
      "\u001b[1m4854/4854\u001b[0m \u001b[32m━━━━━━━━━━━━━━━━━━━━\u001b[0m\u001b[37m\u001b[0m \u001b[1m14s\u001b[0m 2ms/step - loss: 0.0051 - val_loss: 0.0040\n",
      "Epoch 2/2\n",
      "\u001b[1m4854/4854\u001b[0m \u001b[32m━━━━━━━━━━━━━━━━━━━━\u001b[0m\u001b[37m\u001b[0m \u001b[1m12s\u001b[0m 2ms/step - loss: 0.0040 - val_loss: 0.0041\n"
     ]
    }
   ],
   "source": [
    "import numpy as np\n",
    "from tensorflow.keras.models import Sequential\n",
    "from tensorflow.keras.layers import LSTM, Dense, Input\n",
    "from sklearn.preprocessing import MinMaxScaler\n",
    "\n",
    "# Normalizar los datos de entrada\n",
    "scaler_X = MinMaxScaler(feature_range=(0, 1))\n",
    "X_train_scaled = scaler_X.fit_transform(X_train.drop(columns=['Fecha']))\n",
    "X_test_scaled = scaler_X.transform(X_test.drop(columns=['Fecha']))\n",
    "\n",
    "# Normalizar los datos de salida\n",
    "scaler_y = MinMaxScaler(feature_range=(0, 1))\n",
    "y_train_scaled = scaler_y.fit_transform(y_train)\n",
    "y_test_scaled = scaler_y.transform(y_test)\n",
    "\n",
    "# Preparar los datos para LSTM\n",
    "def create_dataset(X, y, time_steps=1):\n",
    "    Xs, ys = [], []\n",
    "    for i in range(len(X) - time_steps):\n",
    "        v = X[i:(i + time_steps)]\n",
    "        Xs.append(v)\n",
    "        ys.append(y[i + time_steps])\n",
    "    return np.array(Xs), np.array(ys)\n",
    "\n",
    "TIME_STEPS = 7  # Utilizaremos los últimos 7 días como datos de entrada\n",
    "X_train_lstm, y_train_lstm = create_dataset(X_train_scaled, y_train_scaled, TIME_STEPS)\n",
    "X_test_lstm, y_test_lstm = create_dataset(X_test_scaled, y_test_scaled, TIME_STEPS)\n",
    "\n",
    "print(X_train_lstm)\n",
    "\n",
    "# Construir el modelo LSTM\n",
    "model = Sequential()\n",
    "model.add(Input(shape=(X_train_lstm.shape[1], X_train_lstm.shape[2])))\n",
    "model.add(LSTM(units=50, return_sequences=True))\n",
    "model.add(LSTM(units=50, return_sequences=False))\n",
    "model.add(Dense(units=y_train_lstm.shape[1]))\n",
    "\n",
    "# Compilar el modelo\n",
    "model.compile(optimizer='adam', loss='mean_squared_error')\n",
    "\n",
    "# Normalizar los datos de entrada para X_val\n",
    "X_val_scaled = scaler_X.transform(X_val.drop(columns=['Fecha']))\n",
    "\n",
    "# Normalizar los datos de salida para y_val\n",
    "y_val_scaled = scaler_y.transform(y_val)\n",
    "\n",
    "# Preparar los datos para LSTM de X_val y y_val\n",
    "X_val_lstm, y_val_lstm = create_dataset(X_val_scaled, y_val_scaled, TIME_STEPS)\n",
    "\n",
    "# Compilar el modelo con la métrica de precisión\n",
    "model.compile(optimizer='adam', loss='mean_squared_error')\n",
    "\n",
    "# Entrenar el modelo con métricas de precisión\n",
    "history = model.fit(X_train_lstm, y_train_lstm, epochs=2, batch_size=32, validation_data=(X_val_lstm, y_val_lstm))\n"
   ]
  },
  {
   "cell_type": "code",
   "execution_count": 7,
   "metadata": {},
   "outputs": [
    {
     "data": {
      "image/png": "[encoded data removed]",
      "text/plain": [
       "<Figure size 1000x500 with 1 Axes>"
      ]
     },
     "metadata": {},
     "output_type": "display_data"
    }
   ],
   "source": [
    "import matplotlib.pyplot as plt\n",
    "# Graficar las curvas de pérdida y precisión\n",
    "train_loss = history.history['loss']\n",
    "val_loss = history.history['val_loss']\n",
    "\n",
    "epochs = range(1, len(train_loss) + 1)\n",
    "\n",
    "# Graficar las curvas de pérdida y precisión\n",
    "plt.figure(figsize=(10, 5))\n",
    "plt.subplot(1, 2, 1)\n",
    "plt.plot(epochs, train_loss, 'b-', label='Training loss')\n",
    "plt.plot(epochs, val_loss, 'r-', label='Validation loss')\n",
    "plt.title('Training and validation loss')\n",
    "plt.xlabel('Epochs')\n",
    "plt.ylabel('Loss')\n",
    "plt.legend()\n",
    "\n",
    "\n",
    "plt.tight_layout()\n",
    "plt.show()"
   ]
  }
 ],
 "metadata": {
  "kernelspec": {
   "display_name": "Python 3",
   "language": "python",
   "name": "python3"
  },
  "language_info": {
   "codemirror_mode": {
    "name": "ipython",
    "version": 3
   },
   "file_extension": ".py",
   "mimetype": "text/x-python",
   "name": "python",
   "nbconvert_exporter": "python",
   "pygments_lexer": "ipython3",
   "version": "3.12.2"
  }
 },
 "nbformat": 4,
 "nbformat_minor": 2
}
